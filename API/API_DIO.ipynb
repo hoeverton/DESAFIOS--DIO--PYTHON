{
  "nbformat": 4,
  "nbformat_minor": 0,
  "metadata": {
    "colab": {
      "provenance": []
    },
    "kernelspec": {
      "name": "python3",
      "display_name": "Python 3"
    },
    "language_info": {
      "name": "python"
    }
  },
  "cells": [
    {
      "cell_type": "code",
      "execution_count": 1,
      "metadata": {
        "colab": {
          "base_uri": "https://localhost:8080/"
        },
        "id": "vrbvPideGFG_",
        "outputId": "ca2eb618-ddee-49fe-c0d3-81fe8ddba83c"
      },
      "outputs": [
        {
          "output_type": "stream",
          "name": "stdout",
          "text": [
            "Mounted at /content/drive\n"
          ]
        }
      ],
      "source": [
        "from flask import Flask, jsonify\n",
        "from google.colab import drive\n",
        "\n",
        "app = Flask(__name__)\n",
        "\n",
        "# Google Drive para acessar a planilha JSON\n",
        "drive.mount('/content/drive')\n",
        "\n",
        "@app.route('/api/ler_planilha')\n",
        "def ler_planilha():\n",
        "    #caminho do arquivo JSON no Google Drive\n",
        "    caminho_arquivo = 'https://docs.google.com/spreadsheets/d/1Mbq4R67BSufQjL9Q0T6OAGQ8kc5WA8yU_yxEUKVaq68/edit?usp=sharing'\n",
        "\n",
        "    # Lê os dados da planilha JSON\n",
        "    try:\n",
        "        with open(caminho_arquivo, 'r') as arquivo_json:\n",
        "            dados = arquivo_json.read()\n",
        "        return jsonify({'dados': dados})\n",
        "    except FileNotFoundError:\n",
        "        return jsonify({'error': 'Arquivo não encontrado'})\n",
        "    except Exception as e:\n",
        "        return jsonify({'error': str(e)})\n"
      ]
    }
  ]
}